{
 "cells": [
  {
   "cell_type": "markdown",
   "metadata": {},
   "source": [
    "# Object Oriented Programming:"
   ]
  },
  {
   "cell_type": "markdown",
   "metadata": {},
   "source": [
    "         We can say object oriented programming as real world programming i.e in which we create objects that contains data fields and methods. It is opposite of procedural programminG in which we use fuctions to perform various operations."
   ]
  },
  {
   "cell_type": "markdown",
   "metadata": {},
   "source": [
    "# Benefits of OOP:"
   ]
  },
  {
   "cell_type": "markdown",
   "metadata": {},
   "source": [
    "<li>OOP is faster and easier to execute</li>\n",
    "<li>OOP provides a clear structure for the programs</li>\n",
    "<li>OOP makes it possible to create full reusable applications with less code and shorter development time</li>"
   ]
  },
  {
   "cell_type": "markdown",
   "metadata": {},
   "source": [
    "# Function vs Method:"
   ]
  },
  {
   "cell_type": "markdown",
   "metadata": {},
   "source": [
    "       Function is the concept mainly belonging to Procedure oriented programming where a function is an an entity which can process data and returns you value\n",
    "     Method is the concept of Object Oriented programming where a method is a member of a class which mostly does processing on the class members."
   ]
  },
  {
   "cell_type": "markdown",
   "metadata": {},
   "source": [
    "# Class:"
   ]
  },
  {
   "cell_type": "markdown",
   "metadata": {},
   "source": [
    "        A Class is like an object constructor, or a \"blueprint\" for creating objects."
   ]
  },
  {
   "cell_type": "markdown",
   "metadata": {},
   "source": [
    "# Object:"
   ]
  },
  {
   "cell_type": "markdown",
   "metadata": {},
   "source": [
    "        An object is nothing but a self-contained component which consists of methods and properties to make a particular type of data useful."
   ]
  },
  {
   "cell_type": "markdown",
   "metadata": {},
   "source": [
    "# Attribute:"
   ]
  },
  {
   "cell_type": "markdown",
   "metadata": {},
   "source": [
    "        Attributes are data stored inside a class or instance and represent the state or quality of the class or instance."
   ]
  },
  {
   "cell_type": "markdown",
   "metadata": {},
   "source": [
    "# Behaviour:"
   ]
  },
  {
   "cell_type": "markdown",
   "metadata": {},
   "source": [
    "        Behavior is the only way objects can do anything to themselves or have anything done to them."
   ]
  },
  {
   "cell_type": "markdown",
   "metadata": {},
   "source": [
    "# Program"
   ]
  },
  {
   "cell_type": "code",
   "execution_count": 4,
   "metadata": {},
   "outputs": [
    {
     "name": "stdout",
     "output_type": "stream",
     "text": [
      "Name : Corolla, Color : Black, Model : 2019, Company : Toyota and Mileage : 13.4 kmpl\n",
      "Name : Vitz, Color : Gray, Model : 2018, Company : Toyota and Mileage : 26.5 kmpl\n",
      "Name : Vigo Champ, Color : Black, Model : 2017, Company : Toyota and Mileage : 8kmpl\n",
      "Name : Cultus, Color : White, Model : 2016, Company : Suzuki and Mileage : 15kmpl\n",
      "Name : Mehran, Color : Red, Model : 2015, Company : Suzuki and Mileage : 16kmpl\n"
     ]
    }
   ],
   "source": [
    "class Car:\n",
    "  def __init__(self, name, color, model, company, mileage):\n",
    "    self.name = name\n",
    "    self.color = color\n",
    "    self.model = model\n",
    "    self.company = company\n",
    "    self.mileage = mileage\n",
    "\n",
    "  def myfunc(self):\n",
    "    print(\"Name : \" + self.name + \", Color : \" + self.color + \", Model : \" + self.model + \", Company : \" + self.company + \n",
    "          \" and Mileage : \" + self.mileage)\n",
    "\n",
    "c1 = Car(\"Corolla\", 'Black', '2019', \"Toyota\", '13.4 kmpl')\n",
    "c2 = Car(\"Vitz\", 'Gray', \"2018\", 'Toyota', \"26.5 kmpl\")\n",
    "c3 = Car(\"Vigo Champ\", \"Black\", '2017', 'Toyota', '8kmpl')\n",
    "c4 = Car(\"Cultus\", 'White', '2016','Suzuki',\"15kmpl\")\n",
    "c5 = Car(\"Mehran\",\"Red\",'2015','Suzuki','16kmpl')\n",
    "c1.myfunc()\n",
    "c2.myfunc()\n",
    "c3.myfunc()\n",
    "c4.myfunc()\n",
    "c5.myfunc()"
   ]
  }
 ],
 "metadata": {
  "kernelspec": {
   "display_name": "Python 3",
   "language": "python",
   "name": "python3"
  },
  "language_info": {
   "codemirror_mode": {
    "name": "ipython",
    "version": 3
   },
   "file_extension": ".py",
   "mimetype": "text/x-python",
   "name": "python",
   "nbconvert_exporter": "python",
   "pygments_lexer": "ipython3",
   "version": "3.7.4"
  }
 },
 "nbformat": 4,
 "nbformat_minor": 2
}
