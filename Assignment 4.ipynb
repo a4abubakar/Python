{
 "cells": [
  {
   "cell_type": "code",
   "execution_count": 3,
   "metadata": {},
   "outputs": [
    {
     "name": "stdout",
     "output_type": "stream",
     "text": [
      "Information : {'first_name': 'Muhammad Abubaker', 'last_name': 'Siddiq', 'age': 20, 'city': 'Karachi'}\n",
      "Enter your Qualification : Intermediate\n",
      "Dictionary after adding qualification key :\n",
      "Information : {'first_name': 'Muhammad Abubaker', 'last_name': 'Siddiq', 'age': 20, 'city': 'Karachi', 'Qualification': 'Intermediate'}\n",
      "Enter your Higher Academic Level : Undergraduate\n",
      "Dictionary after updating qualification key :\n",
      "Information : {'first_name': 'Muhammad Abubaker', 'last_name': 'Siddiq', 'age': 20, 'city': 'Karachi', 'Qualification': 'Undergraduate'}\n",
      "Dictionary after deleting qualification key :\n",
      "Information : {'first_name': 'Muhammad Abubaker', 'last_name': 'Siddiq', 'age': 20, 'city': 'Karachi'}\n"
     ]
    }
   ],
   "source": [
    "personInfo = {\n",
    "    \"first_name\": \"Muhammad Abubaker\",\n",
    "    \"last_name\": \"Siddiq\",\n",
    "    \"age\": 20,\n",
    "    \"city\": \"Karachi\"\n",
    "}\n",
    "print(\"Information :\",personInfo)\n",
    "qual = input(\"Enter your Qualification : \")\n",
    "personInfo[\"Qualification\"] = qual\n",
    "print(\"Dictionary after adding qualification key :\")\n",
    "print(\"Information :\",personInfo)\n",
    "updateQual = input(\"Enter your Higher Academic Level : \")\n",
    "personInfo[\"Qualification\"] = updateQual\n",
    "print(\"Dictionary after updating qualification key :\")\n",
    "print(\"Information :\",personInfo)\n",
    "del personInfo[\"Qualification\"]\n",
    "print(\"Dictionary after deleting qualification key :\")\n",
    "print(\"Information :\",personInfo)"
   ]
  },
  {
   "cell_type": "code",
   "execution_count": 4,
   "metadata": {},
   "outputs": [
    {
     "name": "stdout",
     "output_type": "stream",
     "text": [
      "City Name:  Karachi\n",
      "Information:  {'Population': '14.91 million', 'Fact': 'City of Light', 'Country': 'Pakistan'}\n",
      "City Name:  Berlin\n",
      "Information:  {'Population': '3.748 million', 'Fact': 'Tv Tower', 'Country': 'Germany'}\n",
      "City Name:  Cape Town\n",
      "Information:  {'Population': '4.33 million', 'Fact': 'Mother City', 'Country': 'South Africa'}\n"
     ]
    }
   ],
   "source": [
    "cities = {\n",
    "    \"Karachi\": {\n",
    "        \"Population\": \"14.91 million\",\n",
    "        \"Fact\": \"City of Light\",\n",
    "        \"Country\": \"Pakistan\"\n",
    "    },\n",
    "    \"Berlin\": {\n",
    "        \"Population\": \"3.748 million\",\n",
    "        \"Fact\": \"Tv Tower\",\n",
    "        \"Country\": \"Germany\"\n",
    "    },\n",
    "    \"Cape Town\": {\n",
    "        \"Population\": \"4.33 million\",\n",
    "        \"Fact\": \"Mother City\",\n",
    "        \"Country\": \"South Africa\"\n",
    "    }\n",
    "}\n",
    "for key,value in cities.items():\n",
    "    print(\"City Name: \",key)\n",
    "    print(\"Information: \",value)"
   ]
  },
  {
   "cell_type": "code",
   "execution_count": 5,
   "metadata": {},
   "outputs": [
    {
     "name": "stdout",
     "output_type": "stream",
     "text": [
      "Tell your Age: 5\n",
      "Your ticket's price is $10\n",
      "Do you want to Continue Press y for Yes & Press any keys for exit: n\n"
     ]
    }
   ],
   "source": [
    "flag = 'yes'\n",
    "while flag == 'yes':\n",
    "    age = int(input(\"Tell your Age: \"))\n",
    "    if age < 3:\n",
    "        print(\"Your ticket's price is Free\")\n",
    "    elif age >= 3 and age <= 12:\n",
    "        print(\"Your ticket's price is $10\")\n",
    "    elif age > 12:\n",
    "        print(\"Your ticket's is $15\")\n",
    "    else:\n",
    "        print(\"Invalid Input\")\n",
    "    flag = input(\"Do you want to Continue Press y for Yes & Press any keys for exit: \")"
   ]
  },
  {
   "cell_type": "code",
   "execution_count": 8,
   "metadata": {},
   "outputs": [
    {
     "name": "stdout",
     "output_type": "stream",
     "text": [
      "Enter the title of the book : A smarter way to learn python\n",
      "One of my favorite book is :  A smarter way to learn python\n"
     ]
    }
   ],
   "source": [
    "def favorite_book(book):\n",
    "    print(\"One of my favorite book is : \",book)\n",
    "book = input(\"Enter the title of the book : \")\n",
    "favorite_book(book)"
   ]
  },
  {
   "cell_type": "code",
   "execution_count": 10,
   "metadata": {},
   "outputs": [
    {
     "name": "stdout",
     "output_type": "stream",
     "text": [
      "Enter the Guess Number : 6\n",
      "You Guess Lower Number\n",
      "Hidden Guess Number :  11\n",
      "Enter the Guess Number : 7\n",
      "You Guess Lower Number\n",
      "Hidden Guess Number :  23\n",
      "Enter the Guess Number : 4\n",
      "You Guess Lower Number\n",
      "Hidden Guess Number :  27\n"
     ]
    }
   ],
   "source": [
    "import random\n",
    "counter = 0\n",
    "while counter < 3:\n",
    "    guessNumber = int(input(\"Enter the Guess Number : \"))\n",
    "    counter += 1\n",
    "    randomNumber = random.randint(1,30)\n",
    "    if guessNumber == randomNumber:\n",
    "        print(\"You Guess Correct Number\")\n",
    "    elif guessNumber > randomNumber:\n",
    "        print(\"You Guess Higher Number\")\n",
    "    elif guessNumber < randomNumber:\n",
    "        print(\"You Guess Lower Number\")\n",
    "    print(\"Hidden Guess Number : \",randomNumber)"
   ]
  }
 ],
 "metadata": {
  "kernelspec": {
   "display_name": "Python 3",
   "language": "python",
   "name": "python3"
  },
  "language_info": {
   "codemirror_mode": {
    "name": "ipython",
    "version": 3
   },
   "file_extension": ".py",
   "mimetype": "text/x-python",
   "name": "python",
   "nbconvert_exporter": "python",
   "pygments_lexer": "ipython3",
   "version": "3.7.4"
  }
 },
 "nbformat": 4,
 "nbformat_minor": 2
}
