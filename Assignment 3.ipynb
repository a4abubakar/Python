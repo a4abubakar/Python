{
 "cells": [
  {
   "cell_type": "code",
   "execution_count": 1,
   "metadata": {},
   "outputs": [
    {
     "name": "stdout",
     "output_type": "stream",
     "text": [
      "Enter First number: 6\n",
      "Enter Second number 2\n",
      "Sum of  6 and 2 is : 8\n",
      "Difference of  6 and 2 is : 4\n",
      "Product of 6 and 2 is : 12\n",
      "Division of  6 and 2 is : 3.0\n",
      "Exponent of  6 and 2 is : 36\n"
     ]
    }
   ],
   "source": [
    "num1 = int(input('Enter First number: '))\n",
    "num2 = int(input('Enter Second number '))\n",
    "add = num1 + num2\n",
    "dif = num1 - num2\n",
    "mul = num1 * num2\n",
    "div = num1 / num2\n",
    "power = num1 ** num2\n",
    "print('Sum of ',num1 ,'and' ,num2 ,'is :',add)\n",
    "print('Difference of ',num1 ,'and' ,num2 ,'is :',dif)\n",
    "print('Product of' ,num1 ,'and' ,num2 ,'is :',mul)\n",
    "print('Division of ',num1 ,'and' ,num2 ,'is :',div)\n",
    "print('Exponent of ',num1 ,'and' ,num2 ,'is :',power)"
   ]
  },
  {
   "cell_type": "code",
   "execution_count": 17,
   "metadata": {},
   "outputs": [
    {
     "name": "stdout",
     "output_type": "stream",
     "text": [
      "Numeric value exists\n"
     ]
    }
   ],
   "source": [
    "list=[\"ab\",\"cd\",5.0,\"ef\",True,1,2]\n",
    "flag = False\n",
    "for i in list:\n",
    "    if type(i) == int or type(i) == float:\n",
    "        flag = True\n",
    "        break\n",
    "    else:\n",
    "        flag = False\n",
    "if flag == True:\n",
    "    print(\"Numeric value exists\")\n",
    "else:\n",
    "    print(\"Numeric value does not exist\")"
   ]
  },
  {
   "cell_type": "code",
   "execution_count": 18,
   "metadata": {},
   "outputs": [
    {
     "name": "stdout",
     "output_type": "stream",
     "text": [
      "Key added\n"
     ]
    }
   ],
   "source": [
    "dic = {}\n",
    "dic[0] = \"Key added\"\n",
    "print(dic[0])"
   ]
  },
  {
   "cell_type": "code",
   "execution_count": 21,
   "metadata": {},
   "outputs": [
    {
     "name": "stdout",
     "output_type": "stream",
     "text": [
      "Sum of numeric valus in dictionary  106.4\n"
     ]
    }
   ],
   "source": [
    "result = 0\n",
    "dic = {   \n",
    "        1: 2 ,\n",
    "        2: \"abc\", \n",
    "        3: 4.4, \n",
    "        4: True,\n",
    "        5: 100\n",
    "    }\n",
    "\n",
    "for i in dic.values():\n",
    "    if type(i) == int or type(i) == float:\n",
    "        result = result + i        \n",
    "        \n",
    "print(\"Sum of numeric valus in dictionary \",result)"
   ]
  },
  {
   "cell_type": "code",
   "execution_count": 25,
   "metadata": {},
   "outputs": [
    {
     "name": "stdout",
     "output_type": "stream",
     "text": [
      "Dulicate value : 3\n",
      "Dulicate value : True\n",
      "Dulicate value : abc\n"
     ]
    }
   ],
   "source": [
    "list=[2,95,3,\"abc\",True,\"gh\",5,3,23,True,\"abc\"]\n",
    "newList=[]\n",
    "for i in list:\n",
    "    for j in newList:\n",
    "        if(i==j):\n",
    "            print(\"Dulicate value :\",i)\n",
    "    newList.append(i)"
   ]
  },
  {
   "cell_type": "code",
   "execution_count": 27,
   "metadata": {},
   "outputs": [
    {
     "name": "stdout",
     "output_type": "stream",
     "text": [
      "enter key value :6\n",
      "Key is present in the dictionary\n"
     ]
    }
   ],
   "source": [
    "list = {1: 10, 2: 20, 3: 30, 4: 40, 5: 50, 6: 60}\n",
    "key=int(input(\"enter key value :\"))\n",
    "if key in list:\n",
    "      print('Key is present in the dictionary')\n",
    "else:\n",
    "      print('Key is not present in the dictionary')"
   ]
  }
 ],
 "metadata": {
  "kernelspec": {
   "display_name": "Python 3",
   "language": "python",
   "name": "python3"
  },
  "language_info": {
   "codemirror_mode": {
    "name": "ipython",
    "version": 3
   },
   "file_extension": ".py",
   "mimetype": "text/x-python",
   "name": "python",
   "nbconvert_exporter": "python",
   "pygments_lexer": "ipython3",
   "version": "3.7.4"
  }
 },
 "nbformat": 4,
 "nbformat_minor": 2
}
