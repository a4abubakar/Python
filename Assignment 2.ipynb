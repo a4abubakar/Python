{
 "cells": [
  {
   "cell_type": "code",
   "execution_count": 1,
   "metadata": {},
   "outputs": [
    {
     "name": "stdout",
     "output_type": "stream",
     "text": [
      "Enter marks obtained in Urdu: 78\n",
      "Enter marks obtained in English: 80\n",
      "Enter marks obtained in Maths: 59\n",
      "Enter marks obtained in Islamiat: 92\n",
      "Enter marks obtained in Computer: 98\n",
      "Grade: A-1\n"
     ]
    }
   ],
   "source": [
    "urdu=int(input(\"Enter marks obtained in Urdu: \"))\n",
    "english=int(input(\"Enter marks obtained in English: \"))\n",
    "maths=int(input(\"Enter marks obtained in Maths: \"))\n",
    "islamiat=int(input(\"Enter marks obtained in Islamiat: \"))\n",
    "computer=int(input(\"Enter marks obtained in Computer: \"))\n",
    "avg=(urdu+english+maths+islamiat+computer)/5\n",
    "if(avg>=80):\n",
    "    print(\"Grade: A-1\")\n",
    "elif(avg<80):\n",
    "    print(\"Grade: A\")\n",
    "elif(avg<70):\n",
    "    print(\"Grade: B\")\n",
    "elif(avg<60):\n",
    "    print(\"Grade: C\")\n",
    "else:\n",
    "    print(\"Grade: F\")"
   ]
  },
  {
   "cell_type": "code",
   "execution_count": 2,
   "metadata": {},
   "outputs": [
    {
     "name": "stdout",
     "output_type": "stream",
     "text": [
      "Enter a number: 5\n",
      "This is an odd number.\n"
     ]
    }
   ],
   "source": [
    "num = int(input(\"Enter a number: \"))\n",
    "if num % 2:\n",
    "    print(\"This is an odd number.\")\n",
    "else:\n",
    "    print(\"This is an even number.\")"
   ]
  },
  {
   "cell_type": "code",
   "execution_count": 5,
   "metadata": {},
   "outputs": [
    {
     "name": "stdout",
     "output_type": "stream",
     "text": [
      "List length : 11\n"
     ]
    }
   ],
   "source": [
    "list = [1, 1, 2, 3, 5, 8, 13, 21, 34, 55, 89]\n",
    "print(\"List length :\",len(list))"
   ]
  },
  {
   "cell_type": "code",
   "execution_count": 6,
   "metadata": {},
   "outputs": [
    {
     "name": "stdout",
     "output_type": "stream",
     "text": [
      "The sum of all items in list : 232\n"
     ]
    }
   ],
   "source": [
    "list = [1, 1, 2, 3, 5, 8, 13, 21, 34, 55, 89]\n",
    "print(\"The sum of all items in list :\",sum(list))"
   ]
  },
  {
   "cell_type": "code",
   "execution_count": 7,
   "metadata": {},
   "outputs": [
    {
     "name": "stdout",
     "output_type": "stream",
     "text": [
      "Maximum element in the list is : 89\n"
     ]
    }
   ],
   "source": [
    "list = [1, 1, 2, 3, 5, 8, 13, 21, 34, 55, 89]\n",
    "print(\"Maximum element in the list is :\", max(list))"
   ]
  },
  {
   "cell_type": "code",
   "execution_count": 10,
   "metadata": {},
   "outputs": [
    {
     "name": "stdout",
     "output_type": "stream",
     "text": [
      "[1, 1, 2, 3]\n"
     ]
    }
   ],
   "source": [
    "list = [1, 1, 2, 3, 5, 8, 13, 21, 34, 55, 89]\n",
    "num = 5\n",
    "new_list = []\n",
    "for i in list:\n",
    "  if i<num:\n",
    "    new_list.append(i)\n",
    "print (new_list)"
   ]
  }
 ],
 "metadata": {
  "kernelspec": {
   "display_name": "Python 3",
   "language": "python",
   "name": "python3"
  },
  "language_info": {
   "codemirror_mode": {
    "name": "ipython",
    "version": 3
   },
   "file_extension": ".py",
   "mimetype": "text/x-python",
   "name": "python",
   "nbconvert_exporter": "python",
   "pygments_lexer": "ipython3",
   "version": "3.7.4"
  }
 },
 "nbformat": 4,
 "nbformat_minor": 2
}
