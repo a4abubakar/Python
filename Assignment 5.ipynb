{
 "cells": [
  {
   "cell_type": "code",
   "execution_count": 6,
   "metadata": {},
   "outputs": [
    {
     "name": "stdout",
     "output_type": "stream",
     "text": [
      "Enter a number to find factorial : 5\n",
      "Factorial of 5 : 120\n"
     ]
    }
   ],
   "source": [
    "num= int(input(\"Enter a number to find factorial : \"));\n",
    "def factorialOfNumber(num):\n",
    "    fac=1;\n",
    "    if num<1:\n",
    "        print(\"Please enter a number that is greater then one\");\n",
    "    elif num>=1:\n",
    "        for i in range(1,num+1):\n",
    "            fac=fac*i;\n",
    "        print(\"Factorial of\", num , \":\", fac);\n",
    "    else:\n",
    "        print(\"Invalid Value!!!\");\n",
    "factorialOfNumber(num);"
   ]
  },
  {
   "cell_type": "code",
   "execution_count": 8,
   "metadata": {},
   "outputs": [
    {
     "name": "stdout",
     "output_type": "stream",
     "text": [
      "Enter String : Muhammad Abubaker Siddiq\n",
      "Upper case : 3\n",
      "Lower case : 19\n"
     ]
    }
   ],
   "source": [
    "def findingCase(str):\n",
    "    uppercase=0;\n",
    "    lowercase=0;\n",
    "    for counter in str:\n",
    "        if counter>=\"A\" and counter<=\"Z\":\n",
    "            uppercase +=1;\n",
    "        elif counter>=\"a\" and counter<=\"z\":\n",
    "            lowercase +=1;\n",
    "    print(\"Upper case :\",uppercase);\n",
    "    print(\"Lower case :\",lowercase);\n",
    "\n",
    "str = input(\"Enter String : \");\n",
    "findingCase(str);"
   ]
  },
  {
   "cell_type": "code",
   "execution_count": 12,
   "metadata": {},
   "outputs": [
    {
     "name": "stdout",
     "output_type": "stream",
     "text": [
      "Even numbers in the list are following\n",
      "14, 8, 16, "
     ]
    }
   ],
   "source": [
    "List = [3,14,15,8,5,13,16];\n",
    "def evenNum(List):\n",
    "    print(\"Even numbers in the list are following\")\n",
    "    for num in List:\n",
    "        if num % 2==0:  \n",
    "            print(num, end =\", \");\n",
    "evenNum(List);"
   ]
  },
  {
   "cell_type": "code",
   "execution_count": 14,
   "metadata": {},
   "outputs": [
    {
     "name": "stdout",
     "output_type": "stream",
     "text": [
      "Enter a word to check either it is Palindrome : refer\n",
      "The string is a palindrome\n"
     ]
    }
   ],
   "source": [
    "def checkPaln(str):\n",
    "    if(str==str[::-1]):\n",
    "        print(\"The string is a palindrome\")\n",
    "    else:\n",
    "        print(\"Not a palindrome\")\n",
    "str= input(\"Enter a word to check either it is Palindrome : \");\n",
    "checkPaln(str)"
   ]
  },
  {
   "cell_type": "code",
   "execution_count": 29,
   "metadata": {},
   "outputs": [
    {
     "name": "stdout",
     "output_type": "stream",
     "text": [
      "Enter a number : 5\n",
      "5 is a prime number\n"
     ]
    }
   ],
   "source": [
    "num = int(input(\"Enter a number : \"))\n",
    "def check_prime(num):\n",
    "    flag = True\n",
    "    if num > 1:  \n",
    "        for i in range(2,num):  \n",
    "            if (num % i) == 0:  \n",
    "                print(num,\"is not a prime number\")  \n",
    "                flag = False\n",
    "                break  \n",
    "        if flag:\n",
    "            print(num, \"is a prime number\")\n",
    "\n",
    "    else:\n",
    "        print(num, \"is not a prime number\")\n",
    "\n",
    "    # Calling\n",
    "check_prime(num)"
   ]
  },
  {
   "cell_type": "code",
   "execution_count": 34,
   "metadata": {},
   "outputs": [
    {
     "name": "stdout",
     "output_type": "stream",
     "text": [
      "Shoppint items are following : \n",
      "Chips\n",
      "Vegetable\n",
      "Drink\n",
      "Chocolate\n"
     ]
    }
   ],
   "source": [
    "def shopping(*items):\n",
    "    print(\"Shoppint items are following : \")\n",
    "    for item in items:\n",
    "        print(item)        \n",
    "shopping(\"Chips\",\"Vegetable\",\"Drink\",\"Chocolate\")"
   ]
  }
 ],
 "metadata": {
  "kernelspec": {
   "display_name": "Python 3",
   "language": "python",
   "name": "python3"
  },
  "language_info": {
   "codemirror_mode": {
    "name": "ipython",
    "version": 3
   },
   "file_extension": ".py",
   "mimetype": "text/x-python",
   "name": "python",
   "nbconvert_exporter": "python",
   "pygments_lexer": "ipython3",
   "version": "3.7.4"
  }
 },
 "nbformat": 4,
 "nbformat_minor": 2
}
